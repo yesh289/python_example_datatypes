{
 "cells": [
  {
   "cell_type": "code",
   "execution_count": 1,
   "id": "68f55474-4e2a-4db6-bb35-8ae45bbc24f6",
   "metadata": {},
   "outputs": [
    {
     "data": {
      "text/plain": [
       "[40, 20, 50, 30, 60, 90]"
      ]
     },
     "execution_count": 1,
     "metadata": {},
     "output_type": "execute_result"
    }
   ],
   "source": [
    "dollars=[40,20,50,30,60,90]\n",
    "dollars"
   ]
  },
  {
   "cell_type": "code",
   "execution_count": 3,
   "id": "e4387d21-9b2d-4170-8dca-bef9e8884f6a",
   "metadata": {},
   "outputs": [
    {
     "name": "stdout",
     "output_type": "stream",
     "text": [
      "3400\n",
      "1700\n",
      "4250\n",
      "2550\n",
      "5100\n",
      "7650\n"
     ]
    }
   ],
   "source": [
    "for i in dollars:\n",
    "    print(i*85)"
   ]
  },
  {
   "cell_type": "code",
   "execution_count": 9,
   "id": "31f5e8db-450d-4396-bb31-518928f7d046",
   "metadata": {},
   "outputs": [],
   "source": [
    "list=[]\n",
    "for i in dollars:\n",
    "    list.append(i*85)"
   ]
  },
  {
   "cell_type": "code",
   "execution_count": 11,
   "id": "e4f354d3-a6e1-414f-a7d5-767238f2f5ac",
   "metadata": {},
   "outputs": [
    {
     "data": {
      "text/plain": [
       "[3400, 1700, 4250, 2550, 5100, 7650]"
      ]
     },
     "execution_count": 11,
     "metadata": {},
     "output_type": "execute_result"
    }
   ],
   "source": [
    "list"
   ]
  },
  {
   "cell_type": "code",
   "execution_count": 13,
   "id": "5f0b9218-3b9b-49dd-bb27-9c7d78d3c021",
   "metadata": {},
   "outputs": [
    {
     "data": {
      "text/plain": [
       "[31, 45, 333, 90, 78, 67, 87, 89, 93, 25, 59, 9, 81]"
      ]
     },
     "execution_count": 13,
     "metadata": {},
     "output_type": "execute_result"
    }
   ],
   "source": [
    "num=[31,45,65,90,78,67,87,89,93,25,59,9,91]\n",
    "num"
   ]
  },
  {
   "cell_type": "code",
   "execution_count": 42,
   "id": "5dbd1120-a5e8-4b3a-b830-66561e64debf",
   "metadata": {},
   "outputs": [],
   "source": [
    "e=[]\n",
    "o=[]\n",
    "for i in num:\n",
    "    if i%2==0:\n",
    "        e.append(i)\n",
    "    else:\n",
    "        o.append(i)\n"
   ]
  },
  {
   "cell_type": "code",
   "execution_count": 48,
   "id": "b2ebd27f-d8ce-43ec-b3c5-4ea758df3a03",
   "metadata": {},
   "outputs": [
    {
     "data": {
      "text/plain": [
       "[90, 78]"
      ]
     },
     "execution_count": 48,
     "metadata": {},
     "output_type": "execute_result"
    }
   ],
   "source": [
    "e"
   ]
  },
  {
   "cell_type": "code",
   "execution_count": 50,
   "id": "b9ac5b4e-c6eb-4498-b305-a44ecafc5fad",
   "metadata": {},
   "outputs": [
    {
     "data": {
      "text/plain": [
       "[31, 45, 333, 67, 87, 89, 93, 25, 59, 9, 81]"
      ]
     },
     "execution_count": 50,
     "metadata": {},
     "output_type": "execute_result"
    }
   ],
   "source": [
    "o"
   ]
  },
  {
   "cell_type": "code",
   "execution_count": 54,
   "id": "08271861-6a4f-463e-9432-c65955c8aa20",
   "metadata": {},
   "outputs": [
    {
     "data": {
      "text/plain": [
       "[39, 45, 66, 93, 90, 78, 67, 87, 89, 93, 25, 59, 49, 91]"
      ]
     },
     "execution_count": 54,
     "metadata": {},
     "output_type": "execute_result"
    }
   ],
   "source": [
    "num=[39,45,66,93,90,78,67,87,89,93,25,59,49,91]\n",
    "num"
   ]
  },
  {
   "cell_type": "code",
   "execution_count": 56,
   "id": "7b177dcf-c96f-4e62-a24d-82c4b94173c6",
   "metadata": {},
   "outputs": [
    {
     "data": {
      "text/plain": [
       "'[39, 45, 66, 93, 90, 78, 67, 87, 89, 93, 25, 59, 49, 91]'"
      ]
     },
     "execution_count": 56,
     "metadata": {},
     "output_type": "execute_result"
    }
   ],
   "source": [
    "h=[]\n",
    "for i in num:\n",
    "    s=str(i)\n",
    "    b=a.replace('9','1')"
   ]
  },
  {
   "cell_type": "code",
   "execution_count": null,
   "id": "dd210853-d84a-4951-b5da-37cd76367f78",
   "metadata": {},
   "outputs": [],
   "source": []
  }
 ],
 "metadata": {
  "kernelspec": {
   "display_name": "Python 3 (ipykernel)",
   "language": "python",
   "name": "python3"
  },
  "language_info": {
   "codemirror_mode": {
    "name": "ipython",
    "version": 3
   },
   "file_extension": ".py",
   "mimetype": "text/x-python",
   "name": "python",
   "nbconvert_exporter": "python",
   "pygments_lexer": "ipython3",
   "version": "3.12.4"
  }
 },
 "nbformat": 4,
 "nbformat_minor": 5
}
